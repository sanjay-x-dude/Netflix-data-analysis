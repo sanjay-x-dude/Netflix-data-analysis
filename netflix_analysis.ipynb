{
 "cells": [
  {
   "cell_type": "markdown",
   "id": "5bc7001a",
   "metadata": {},
   "source": [
    "# 📺 Netflix Data Analysis Project"
   ]
  },
  {
   "cell_type": "code",
   "execution_count": 1,
   "id": "d1a53635",
   "metadata": {},
   "outputs": [
    {
     "ename": "ModuleNotFoundError",
     "evalue": "No module named 'pandas'",
     "output_type": "error",
     "traceback": [
      "\u001b[31m---------------------------------------------------------------------------\u001b[39m",
      "\u001b[31mModuleNotFoundError\u001b[39m                       Traceback (most recent call last)",
      "\u001b[36mCell\u001b[39m\u001b[36m \u001b[39m\u001b[32mIn[1]\u001b[39m\u001b[32m, line 1\u001b[39m\n\u001b[32m----> \u001b[39m\u001b[32m1\u001b[39m \u001b[38;5;28;01mimport\u001b[39;00m\u001b[38;5;250m \u001b[39m\u001b[34;01mpandas\u001b[39;00m\u001b[38;5;250m \u001b[39m\u001b[38;5;28;01mas\u001b[39;00m\u001b[38;5;250m \u001b[39m\u001b[34;01mpd\u001b[39;00m\n\u001b[32m      2\u001b[39m \u001b[38;5;28;01mimport\u001b[39;00m\u001b[38;5;250m \u001b[39m\u001b[34;01mnumpy\u001b[39;00m\u001b[38;5;250m \u001b[39m\u001b[38;5;28;01mas\u001b[39;00m\u001b[38;5;250m \u001b[39m\u001b[34;01mnp\u001b[39;00m\n\u001b[32m      3\u001b[39m \u001b[38;5;28;01mimport\u001b[39;00m\u001b[38;5;250m \u001b[39m\u001b[34;01mmatplotlib\u001b[39;00m\u001b[34;01m.\u001b[39;00m\u001b[34;01mpyplot\u001b[39;00m\u001b[38;5;250m \u001b[39m\u001b[38;5;28;01mas\u001b[39;00m\u001b[38;5;250m \u001b[39m\u001b[34;01mplt\u001b[39;00m\n",
      "\u001b[31mModuleNotFoundError\u001b[39m: No module named 'pandas'"
     ]
    }
   ],
   "source": [
    "\n",
    "import pandas as pd\n",
    "import numpy as np\n",
    "import matplotlib.pyplot as plt\n",
    "import seaborn as sns\n",
    "from wordcloud import WordCloud\n",
    "\n",
    "%matplotlib inline\n",
    "sns.set(style=\"whitegrid\")\n"
   ]
  },
  {
   "cell_type": "code",
   "execution_count": null,
   "id": "ad43b20e",
   "metadata": {},
   "outputs": [],
   "source": [
    "\n",
    "# Load CSV from the correct path\n",
    "data = pd.read_csv(\"data/netflix1.csv\")\n",
    "data.head()\n"
   ]
  },
  {
   "cell_type": "code",
   "execution_count": null,
   "id": "f2b360fe",
   "metadata": {},
   "outputs": [],
   "source": [
    "\n",
    "# Check for missing values and clean the data\n",
    "print(\"Missing Values:\\n\", data.isnull().sum())\n",
    "data.drop_duplicates(inplace=True)\n",
    "data['date_added'] = pd.to_datetime(data['date_added'], errors='coerce')\n",
    "data.dtypes\n"
   ]
  },
  {
   "cell_type": "code",
   "execution_count": null,
   "id": "3e49626f",
   "metadata": {},
   "outputs": [],
   "source": [
    "\n",
    "showtype = data['type'].value_counts().reset_index()\n",
    "showtype.columns = ['type', 'count']\n",
    "\n",
    "plt.figure(figsize=(6, 6))\n",
    "plt.pie(showtype['count'], labels=showtype['type'], autopct='%1.1f%%', colors=['gold', 'skyblue'])\n",
    "plt.title(\"Distribution of Movies vs TV Shows\")\n",
    "plt.show()\n"
   ]
  },
  {
   "cell_type": "code",
   "execution_count": null,
   "id": "ce7e6edd",
   "metadata": {},
   "outputs": [],
   "source": [
    "\n",
    "data['genres'] = data['listed_in'].fillna('').apply(lambda x: x.split(', '))\n",
    "all_genres = sum(data['genres'], [])\n",
    "genre_counts = pd.Series(all_genres).value_counts().head(10)\n",
    "\n",
    "plt.figure(figsize=(10, 6))\n",
    "sns.barplot(x=genre_counts.values, y=genre_counts.index, palette='viridis')\n",
    "plt.title('Most Common Genres on Netflix')\n",
    "plt.xlabel('Count')\n",
    "plt.ylabel('Genre')\n",
    "plt.show()\n"
   ]
  },
  {
   "cell_type": "code",
   "execution_count": null,
   "id": "5e4d8632",
   "metadata": {},
   "outputs": [],
   "source": [
    "\n",
    "data['year_added'] = data['date_added'].dt.year\n",
    "plt.figure(figsize=(12,6))\n",
    "sns.countplot(x='year_added', data=data, palette='coolwarm')\n",
    "plt.title(\"Content Added Over Time\")\n",
    "plt.xlabel('Year')\n",
    "plt.ylabel('Count')\n",
    "plt.xticks(rotation=45)\n",
    "plt.show()\n"
   ]
  },
  {
   "cell_type": "code",
   "execution_count": null,
   "id": "83c8209a",
   "metadata": {},
   "outputs": [],
   "source": [
    "\n",
    "movie_titles = data[data['type']=='Movie']['title'].dropna()\n",
    "wordcloud = WordCloud(width=800, height=400, background_color='black').generate(' '.join(movie_titles))\n",
    "\n",
    "plt.figure(figsize=(10, 6))\n",
    "plt.imshow(wordcloud, interpolation='bilinear')\n",
    "plt.axis('off')\n",
    "plt.title(\"Most Frequent Words in Movie Titles\")\n",
    "plt.show()\n"
   ]
  },
  {
   "cell_type": "code",
   "execution_count": null,
   "id": "8ec05daa",
   "metadata": {},
   "outputs": [],
   "source": [
    "\n",
    "directors = data['director'].value_counts().reset_index()\n",
    "directors.columns = ['director', 'count']\n",
    "top_directors = directors[1:15]\n",
    "\n",
    "plt.figure(figsize=(10,6))\n",
    "sns.barplot(x='count', y='director', data=top_directors, palette='YlGnBu')\n",
    "plt.title(\"Top 15 Directors with Most Titles\")\n",
    "plt.show()\n"
   ]
  },
  {
   "cell_type": "code",
   "execution_count": null,
   "id": "a88e3eb8",
   "metadata": {},
   "outputs": [],
   "source": [
    "\n",
    "top_countries = data['country'].value_counts().head(10).reset_index()\n",
    "top_countries.columns = ['country', 'count']\n",
    "\n",
    "plt.figure(figsize=(10,6))\n",
    "sns.barplot(x='country', y='count', data=top_countries, palette='Set2')\n",
    "plt.title(\"Top 10 Countries with Most Netflix Titles\")\n",
    "plt.xticks(rotation=45)\n",
    "plt.show()\n"
   ]
  },
  {
   "cell_type": "code",
   "execution_count": null,
   "id": "c2ef9247",
   "metadata": {},
   "outputs": [],
   "source": [
    "\n",
    "ratings = data.groupby(['rating', 'type']).size().reset_index(name='count')\n",
    "movie_ratings = ratings[ratings['type'] == 'Movie'].sort_values(by='count', ascending=False).head(10)\n",
    "tv_ratings = ratings[ratings['type'] == 'TV Show'].sort_values(by='count', ascending=False).head(10)\n",
    "\n",
    "plt.figure(figsize=(10,6))\n",
    "sns.barplot(data=movie_ratings, x='rating', y='count', palette='colorblind')\n",
    "plt.title('Top Movie Ratings')\n",
    "plt.xticks(rotation=45)\n",
    "plt.show()\n",
    "\n",
    "plt.figure(figsize=(10,6))\n",
    "sns.barplot(data=tv_ratings, x='rating', y='count', palette='pastel')\n",
    "plt.title('Top TV Show Ratings')\n",
    "plt.xticks(rotation=45)\n",
    "plt.show()\n"
   ]
  }
 ],
 "metadata": {
  "kernelspec": {
   "display_name": "Python 3",
   "language": "python",
   "name": "python3"
  },
  "language_info": {
   "codemirror_mode": {
    "name": "ipython",
    "version": 3
   },
   "file_extension": ".py",
   "mimetype": "text/x-python",
   "name": "python",
   "nbconvert_exporter": "python",
   "pygments_lexer": "ipython3",
   "version": "3.12.10"
  }
 },
 "nbformat": 4,
 "nbformat_minor": 5
}
